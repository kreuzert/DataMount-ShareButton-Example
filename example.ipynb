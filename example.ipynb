{
 "cells": [
  {
   "cell_type": "markdown",
   "id": "4686eaa5-29a2-45db-8ca4-d1a9ef5326cd",
   "metadata": {},
   "source": [
    "# Analyze external data with one click. Secure, easy, FAIR"
   ]
  },
  {
   "cell_type": "code",
   "execution_count": 1,
   "id": "6af7e1d0-e73a-4084-9ea6-44ad47e23458",
   "metadata": {},
   "outputs": [],
   "source": [
    "import json\n",
    "b2drop_data_path = \"/home/jovyan/data_mounts/b2drop/b2drop_data.csv\"\n",
    "aws_data_path = \"/home/jovyan/data_mounts/aws/aws_data.csv\""
   ]
  },
  {
   "cell_type": "code",
   "execution_count": 2,
   "id": "0efbae0a-b151-447e-a7c3-bf17692beff3",
   "metadata": {},
   "outputs": [
    {
     "name": "stdout",
     "output_type": "stream",
     "text": [
      "Data from B2Drop\n",
      "[('A', '1'), ('B', '2'), ('C', '3'), ('D', '4'), ('E', '5'), ('F', '6'), ('G', '7')]\n"
     ]
    }
   ],
   "source": [
    "b2drop_data = []\n",
    "with open(b2drop_data_path, \"r\") as f:\n",
    "    for line in f:\n",
    "        b2drop_data.append(tuple(line.strip().split(\",\")))\n",
    "print(\"Data from B2Drop\")\n",
    "print(b2drop_data)"
   ]
  },
  {
   "cell_type": "code",
   "execution_count": 3,
   "id": "e84b51ce-83be-414e-b7ff-464360fc1b11",
   "metadata": {},
   "outputs": [
    {
     "name": "stdout",
     "output_type": "stream",
     "text": [
      "Data from AWS\n",
      "[('Q', '17'), ('R', '18'), ('S', '19'), ('T', '20'), ('U', '21'), ('V', '22'), ('W', '23'), ('X', '24'), ('Y', '25'), ('Z', '26')]\n"
     ]
    }
   ],
   "source": [
    "aws_data = []\n",
    "with open(aws_data_path, \"r\") as f:\n",
    "    for line in f:\n",
    "        aws_data.append(tuple(line.strip().split(\",\")))\n",
    "print(\"Data from AWS\")\n",
    "print(aws_data)"
   ]
  },
  {
   "cell_type": "code",
   "execution_count": 4,
   "id": "d7c3caee-90d7-4108-938a-85927624a822",
   "metadata": {},
   "outputs": [
    {
     "name": "stdout",
     "output_type": "stream",
     "text": [
      "Combined Data from multiple external sources: \n",
      "[('A', '1'), ('B', '2'), ('C', '3'), ('D', '4'), ('E', '5'), ('F', '6'), ('G', '7'), ('Q', '17'), ('R', '18'), ('S', '19'), ('T', '20'), ('U', '21'), ('V', '22'), ('W', '23'), ('X', '24'), ('Y', '25'), ('Z', '26')]\n"
     ]
    }
   ],
   "source": [
    "print(\"Combined Data from multiple external sources: \")\n",
    "print(b2drop_data + aws_data)"
   ]
  },
  {
   "cell_type": "code",
   "execution_count": null,
   "id": "62c0c1f9-ec34-4e00-967b-730e79cdf7af",
   "metadata": {},
   "outputs": [],
   "source": []
  }
 ],
 "metadata": {
  "kernelspec": {
   "display_name": "Python 3 (ipykernel)",
   "language": "python",
   "name": "python3"
  },
  "language_info": {
   "codemirror_mode": {
    "name": "ipython",
    "version": 3
   },
   "file_extension": ".py",
   "mimetype": "text/x-python",
   "name": "python",
   "nbconvert_exporter": "python",
   "pygments_lexer": "ipython3",
   "version": "3.10.16"
  }
 },
 "nbformat": 4,
 "nbformat_minor": 5
}
